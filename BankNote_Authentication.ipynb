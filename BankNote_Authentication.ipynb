{
  "nbformat": 4,
  "nbformat_minor": 0,
  "metadata": {
    "colab": {
      "name": "BankNote Authentication.ipynb",
      "provenance": [],
      "collapsed_sections": []
    },
    "kernelspec": {
      "name": "python3",
      "display_name": "Python 3"
    },
    "language_info": {
      "name": "python"
    }
  },
  "cells": [
    {
      "cell_type": "code",
      "metadata": {
        "id": "PlsYvutj6eK2"
      },
      "source": [
        "import pandas as pd\n",
        "import numpy as np "
      ],
      "execution_count": null,
      "outputs": []
    },
    {
      "cell_type": "code",
      "metadata": {
        "id": "2B2yQ2kV7Xp9"
      },
      "source": [
        "data = pd.read_csv('/content/BankNote_Authentication.xls')"
      ],
      "execution_count": null,
      "outputs": []
    },
    {
      "cell_type": "code",
      "metadata": {
        "id": "EWoJp4qX7oyf"
      },
      "source": [
        "data = data.sample(frac=1).reset_index(drop=True)"
      ],
      "execution_count": null,
      "outputs": []
    },
    {
      "cell_type": "code",
      "metadata": {
        "colab": {
          "base_uri": "https://localhost:8080/",
          "height": 206
        },
        "id": "ckjYxnWJ79Ld",
        "outputId": "1bf15792-679a-4b98-ca01-a7fbc7d38676"
      },
      "source": [
        "data.head(5)"
      ],
      "execution_count": null,
      "outputs": [
        {
          "output_type": "execute_result",
          "data": {
            "text/html": [
              "<div>\n",
              "<style scoped>\n",
              "    .dataframe tbody tr th:only-of-type {\n",
              "        vertical-align: middle;\n",
              "    }\n",
              "\n",
              "    .dataframe tbody tr th {\n",
              "        vertical-align: top;\n",
              "    }\n",
              "\n",
              "    .dataframe thead th {\n",
              "        text-align: right;\n",
              "    }\n",
              "</style>\n",
              "<table border=\"1\" class=\"dataframe\">\n",
              "  <thead>\n",
              "    <tr style=\"text-align: right;\">\n",
              "      <th></th>\n",
              "      <th>variance</th>\n",
              "      <th>skewness</th>\n",
              "      <th>curtosis</th>\n",
              "      <th>entropy</th>\n",
              "      <th>class</th>\n",
              "    </tr>\n",
              "  </thead>\n",
              "  <tbody>\n",
              "    <tr>\n",
              "      <th>0</th>\n",
              "      <td>-0.49241</td>\n",
              "      <td>0.89392</td>\n",
              "      <td>-1.62830</td>\n",
              "      <td>-0.56854</td>\n",
              "      <td>1</td>\n",
              "    </tr>\n",
              "    <tr>\n",
              "      <th>1</th>\n",
              "      <td>0.92970</td>\n",
              "      <td>-3.79710</td>\n",
              "      <td>4.64290</td>\n",
              "      <td>-0.29570</td>\n",
              "      <td>0</td>\n",
              "    </tr>\n",
              "    <tr>\n",
              "      <th>2</th>\n",
              "      <td>1.86640</td>\n",
              "      <td>7.77630</td>\n",
              "      <td>-0.23849</td>\n",
              "      <td>-2.96340</td>\n",
              "      <td>0</td>\n",
              "    </tr>\n",
              "    <tr>\n",
              "      <th>3</th>\n",
              "      <td>1.56310</td>\n",
              "      <td>0.89599</td>\n",
              "      <td>-1.97020</td>\n",
              "      <td>0.65472</td>\n",
              "      <td>1</td>\n",
              "    </tr>\n",
              "    <tr>\n",
              "      <th>4</th>\n",
              "      <td>5.59100</td>\n",
              "      <td>10.46430</td>\n",
              "      <td>-4.38390</td>\n",
              "      <td>-4.33790</td>\n",
              "      <td>0</td>\n",
              "    </tr>\n",
              "  </tbody>\n",
              "</table>\n",
              "</div>"
            ],
            "text/plain": [
              "   variance  skewness  curtosis  entropy  class\n",
              "0  -0.49241   0.89392  -1.62830 -0.56854      1\n",
              "1   0.92970  -3.79710   4.64290 -0.29570      0\n",
              "2   1.86640   7.77630  -0.23849 -2.96340      0\n",
              "3   1.56310   0.89599  -1.97020  0.65472      1\n",
              "4   5.59100  10.46430  -4.38390 -4.33790      0"
            ]
          },
          "metadata": {
            "tags": []
          },
          "execution_count": 4
        }
      ]
    },
    {
      "cell_type": "code",
      "metadata": {
        "colab": {
          "base_uri": "https://localhost:8080/",
          "height": 206
        },
        "id": "LieCdX2W7epR",
        "outputId": "051d0b91-82f0-44d9-9801-c3dec0cb2810"
      },
      "source": [
        "data.tail(5)"
      ],
      "execution_count": null,
      "outputs": [
        {
          "output_type": "execute_result",
          "data": {
            "text/html": [
              "<div>\n",
              "<style scoped>\n",
              "    .dataframe tbody tr th:only-of-type {\n",
              "        vertical-align: middle;\n",
              "    }\n",
              "\n",
              "    .dataframe tbody tr th {\n",
              "        vertical-align: top;\n",
              "    }\n",
              "\n",
              "    .dataframe thead th {\n",
              "        text-align: right;\n",
              "    }\n",
              "</style>\n",
              "<table border=\"1\" class=\"dataframe\">\n",
              "  <thead>\n",
              "    <tr style=\"text-align: right;\">\n",
              "      <th></th>\n",
              "      <th>variance</th>\n",
              "      <th>skewness</th>\n",
              "      <th>curtosis</th>\n",
              "      <th>entropy</th>\n",
              "      <th>class</th>\n",
              "    </tr>\n",
              "  </thead>\n",
              "  <tbody>\n",
              "    <tr>\n",
              "      <th>1367</th>\n",
              "      <td>-1.8391</td>\n",
              "      <td>-9.088300</td>\n",
              "      <td>9.2416</td>\n",
              "      <td>-0.10432</td>\n",
              "      <td>1</td>\n",
              "    </tr>\n",
              "    <tr>\n",
              "      <th>1368</th>\n",
              "      <td>-1.7279</td>\n",
              "      <td>-6.841000</td>\n",
              "      <td>8.9494</td>\n",
              "      <td>0.68058</td>\n",
              "      <td>1</td>\n",
              "    </tr>\n",
              "    <tr>\n",
              "      <th>1369</th>\n",
              "      <td>-2.2625</td>\n",
              "      <td>-0.099335</td>\n",
              "      <td>2.8127</td>\n",
              "      <td>0.48662</td>\n",
              "      <td>1</td>\n",
              "    </tr>\n",
              "    <tr>\n",
              "      <th>1370</th>\n",
              "      <td>3.8117</td>\n",
              "      <td>10.145700</td>\n",
              "      <td>-4.0463</td>\n",
              "      <td>-4.56290</td>\n",
              "      <td>0</td>\n",
              "    </tr>\n",
              "    <tr>\n",
              "      <th>1371</th>\n",
              "      <td>2.2634</td>\n",
              "      <td>-4.486200</td>\n",
              "      <td>3.6558</td>\n",
              "      <td>-0.61251</td>\n",
              "      <td>0</td>\n",
              "    </tr>\n",
              "  </tbody>\n",
              "</table>\n",
              "</div>"
            ],
            "text/plain": [
              "      variance   skewness  curtosis  entropy  class\n",
              "1367   -1.8391  -9.088300    9.2416 -0.10432      1\n",
              "1368   -1.7279  -6.841000    8.9494  0.68058      1\n",
              "1369   -2.2625  -0.099335    2.8127  0.48662      1\n",
              "1370    3.8117  10.145700   -4.0463 -4.56290      0\n",
              "1371    2.2634  -4.486200    3.6558 -0.61251      0"
            ]
          },
          "metadata": {
            "tags": []
          },
          "execution_count": 5
        }
      ]
    },
    {
      "cell_type": "code",
      "metadata": {
        "id": "Tdap_PJI8c3B"
      },
      "source": [
        "train_df = data[0:800].reset_index(drop=True)\n",
        "validation_df = data[801:1200].reset_index(drop=True)\n",
        "test_df = data[1200::].reset_index(drop=True)"
      ],
      "execution_count": null,
      "outputs": []
    },
    {
      "cell_type": "code",
      "metadata": {
        "colab": {
          "base_uri": "https://localhost:8080/"
        },
        "id": "7cziUD0s9ElE",
        "outputId": "ee9b79d9-6da1-4fbf-99d5-bea4d4e1bb80"
      },
      "source": [
        "train_df['class'].value_counts()\n",
        "validation_df['class'].value_counts()\n",
        "test_df['class'].value_counts()"
      ],
      "execution_count": null,
      "outputs": [
        {
          "output_type": "execute_result",
          "data": {
            "text/plain": [
              "0    96\n",
              "1    76\n",
              "Name: class, dtype: int64"
            ]
          },
          "metadata": {
            "tags": []
          },
          "execution_count": 7
        }
      ]
    },
    {
      "cell_type": "code",
      "metadata": {
        "id": "BcDkX-O-_alq"
      },
      "source": [
        "train_Y =train_df['class']\n",
        "train_X = train_df.loc[:, train_df.columns != 'class']"
      ],
      "execution_count": null,
      "outputs": []
    },
    {
      "cell_type": "code",
      "metadata": {
        "id": "Yy1GGRu5DBPg"
      },
      "source": [
        "validation_Y =validation_df['class'].reset_index(drop=True)\n",
        "validation_X = validation_df.loc[:, validation_df.columns != 'class']"
      ],
      "execution_count": null,
      "outputs": []
    },
    {
      "cell_type": "code",
      "metadata": {
        "id": "qTppQmGb_1mR"
      },
      "source": [
        "import tensorflow as tf\n",
        "from tensorflow import keras\n",
        "from tensorflow.keras.optimizers import Adam , SGD , RMSprop"
      ],
      "execution_count": null,
      "outputs": []
    },
    {
      "cell_type": "code",
      "metadata": {
        "id": "icIP_ULFAbz5"
      },
      "source": [
        "model = tf.keras.models.Sequential([                    \n",
        "        tf.keras.layers.Dense(4,activation='relu'),\n",
        "        tf.keras.layers.Flatten(),\n",
        "        tf.keras.layers.Dense(1,activation='sigmoid')\n",
        "])"
      ],
      "execution_count": null,
      "outputs": []
    },
    {
      "cell_type": "code",
      "metadata": {
        "id": "gO_ZlhS5BpkX"
      },
      "source": [
        "adam = Adam(0.001)\n",
        "model.compile(optimizer='adam',loss=tf.keras.losses.binary_crossentropy,metrics=['accuracy'])"
      ],
      "execution_count": null,
      "outputs": []
    },
    {
      "cell_type": "code",
      "metadata": {
        "colab": {
          "base_uri": "https://localhost:8080/"
        },
        "id": "Hvcr8lGMCXKj",
        "outputId": "2ddff981-0e8a-4fb9-ded0-552a4e07ed69"
      },
      "source": [
        "history=model.fit(x=train_X,\n",
        "                  y=train_Y,\n",
        "                  epochs=70,\n",
        "                  validation_data =(validation_X,validation_Y))"
      ],
      "execution_count": null,
      "outputs": [
        {
          "output_type": "stream",
          "text": [
            "Epoch 1/70\n",
            "25/25 [==============================] - 1s 11ms/step - loss: 0.8952 - accuracy: 0.4536 - val_loss: 0.8315 - val_accuracy: 0.4762\n",
            "Epoch 2/70\n",
            "25/25 [==============================] - 0s 3ms/step - loss: 0.8768 - accuracy: 0.4690 - val_loss: 0.7875 - val_accuracy: 0.4937\n",
            "Epoch 3/70\n",
            "25/25 [==============================] - 0s 3ms/step - loss: 0.8136 - accuracy: 0.4843 - val_loss: 0.7497 - val_accuracy: 0.5088\n",
            "Epoch 4/70\n",
            "25/25 [==============================] - 0s 3ms/step - loss: 0.7596 - accuracy: 0.5052 - val_loss: 0.7137 - val_accuracy: 0.5238\n",
            "Epoch 5/70\n",
            "25/25 [==============================] - 0s 3ms/step - loss: 0.7315 - accuracy: 0.5123 - val_loss: 0.6806 - val_accuracy: 0.5363\n",
            "Epoch 6/70\n",
            "25/25 [==============================] - 0s 4ms/step - loss: 0.6740 - accuracy: 0.5422 - val_loss: 0.6479 - val_accuracy: 0.5739\n",
            "Epoch 7/70\n",
            "25/25 [==============================] - 0s 3ms/step - loss: 0.6285 - accuracy: 0.6026 - val_loss: 0.6152 - val_accuracy: 0.7043\n",
            "Epoch 8/70\n",
            "25/25 [==============================] - 0s 3ms/step - loss: 0.6077 - accuracy: 0.7227 - val_loss: 0.5842 - val_accuracy: 0.7293\n",
            "Epoch 9/70\n",
            "25/25 [==============================] - 0s 3ms/step - loss: 0.5749 - accuracy: 0.7300 - val_loss: 0.5551 - val_accuracy: 0.7794\n",
            "Epoch 10/70\n",
            "25/25 [==============================] - 0s 3ms/step - loss: 0.5407 - accuracy: 0.7741 - val_loss: 0.5274 - val_accuracy: 0.8296\n",
            "Epoch 11/70\n",
            "25/25 [==============================] - 0s 3ms/step - loss: 0.5261 - accuracy: 0.8024 - val_loss: 0.5011 - val_accuracy: 0.8496\n",
            "Epoch 12/70\n",
            "25/25 [==============================] - 0s 3ms/step - loss: 0.4921 - accuracy: 0.8314 - val_loss: 0.4778 - val_accuracy: 0.8596\n",
            "Epoch 13/70\n",
            "25/25 [==============================] - 0s 3ms/step - loss: 0.4497 - accuracy: 0.8698 - val_loss: 0.4546 - val_accuracy: 0.8722\n",
            "Epoch 14/70\n",
            "25/25 [==============================] - 0s 3ms/step - loss: 0.4505 - accuracy: 0.8579 - val_loss: 0.4333 - val_accuracy: 0.8772\n",
            "Epoch 15/70\n",
            "25/25 [==============================] - 0s 3ms/step - loss: 0.4069 - accuracy: 0.9071 - val_loss: 0.4132 - val_accuracy: 0.8872\n",
            "Epoch 16/70\n",
            "25/25 [==============================] - 0s 3ms/step - loss: 0.3910 - accuracy: 0.9102 - val_loss: 0.3945 - val_accuracy: 0.8897\n",
            "Epoch 17/70\n",
            "25/25 [==============================] - 0s 3ms/step - loss: 0.3744 - accuracy: 0.9292 - val_loss: 0.3764 - val_accuracy: 0.9123\n",
            "Epoch 18/70\n",
            "25/25 [==============================] - 0s 3ms/step - loss: 0.3547 - accuracy: 0.9373 - val_loss: 0.3596 - val_accuracy: 0.9173\n",
            "Epoch 19/70\n",
            "25/25 [==============================] - 0s 3ms/step - loss: 0.3346 - accuracy: 0.9431 - val_loss: 0.3446 - val_accuracy: 0.9248\n",
            "Epoch 20/70\n",
            "25/25 [==============================] - 0s 3ms/step - loss: 0.3237 - accuracy: 0.9495 - val_loss: 0.3292 - val_accuracy: 0.9298\n",
            "Epoch 21/70\n",
            "25/25 [==============================] - 0s 3ms/step - loss: 0.3201 - accuracy: 0.9473 - val_loss: 0.3160 - val_accuracy: 0.9373\n",
            "Epoch 22/70\n",
            "25/25 [==============================] - 0s 3ms/step - loss: 0.3055 - accuracy: 0.9417 - val_loss: 0.3030 - val_accuracy: 0.9424\n",
            "Epoch 23/70\n",
            "25/25 [==============================] - 0s 3ms/step - loss: 0.2811 - accuracy: 0.9560 - val_loss: 0.2903 - val_accuracy: 0.9449\n",
            "Epoch 24/70\n",
            "25/25 [==============================] - 0s 3ms/step - loss: 0.2703 - accuracy: 0.9580 - val_loss: 0.2785 - val_accuracy: 0.9474\n",
            "Epoch 25/70\n",
            "25/25 [==============================] - 0s 3ms/step - loss: 0.2532 - accuracy: 0.9646 - val_loss: 0.2678 - val_accuracy: 0.9499\n",
            "Epoch 26/70\n",
            "25/25 [==============================] - 0s 3ms/step - loss: 0.2499 - accuracy: 0.9642 - val_loss: 0.2577 - val_accuracy: 0.9499\n",
            "Epoch 27/70\n",
            "25/25 [==============================] - 0s 3ms/step - loss: 0.2313 - accuracy: 0.9646 - val_loss: 0.2482 - val_accuracy: 0.9524\n",
            "Epoch 28/70\n",
            "25/25 [==============================] - 0s 3ms/step - loss: 0.2187 - accuracy: 0.9779 - val_loss: 0.2387 - val_accuracy: 0.9524\n",
            "Epoch 29/70\n",
            "25/25 [==============================] - 0s 3ms/step - loss: 0.2129 - accuracy: 0.9755 - val_loss: 0.2298 - val_accuracy: 0.9524\n",
            "Epoch 30/70\n",
            "25/25 [==============================] - 0s 3ms/step - loss: 0.2126 - accuracy: 0.9796 - val_loss: 0.2210 - val_accuracy: 0.9524\n",
            "Epoch 31/70\n",
            "25/25 [==============================] - 0s 3ms/step - loss: 0.1997 - accuracy: 0.9851 - val_loss: 0.2134 - val_accuracy: 0.9549\n",
            "Epoch 32/70\n",
            "25/25 [==============================] - 0s 4ms/step - loss: 0.1869 - accuracy: 0.9870 - val_loss: 0.2053 - val_accuracy: 0.9549\n",
            "Epoch 33/70\n",
            "25/25 [==============================] - 0s 3ms/step - loss: 0.1912 - accuracy: 0.9860 - val_loss: 0.1987 - val_accuracy: 0.9574\n",
            "Epoch 34/70\n",
            "25/25 [==============================] - 0s 3ms/step - loss: 0.1779 - accuracy: 0.9857 - val_loss: 0.1913 - val_accuracy: 0.9624\n",
            "Epoch 35/70\n",
            "25/25 [==============================] - 0s 3ms/step - loss: 0.1719 - accuracy: 0.9891 - val_loss: 0.1851 - val_accuracy: 0.9624\n",
            "Epoch 36/70\n",
            "25/25 [==============================] - 0s 3ms/step - loss: 0.1697 - accuracy: 0.9867 - val_loss: 0.1791 - val_accuracy: 0.9674\n",
            "Epoch 37/70\n",
            "25/25 [==============================] - 0s 3ms/step - loss: 0.1648 - accuracy: 0.9911 - val_loss: 0.1734 - val_accuracy: 0.9724\n",
            "Epoch 38/70\n",
            "25/25 [==============================] - 0s 3ms/step - loss: 0.1549 - accuracy: 0.9846 - val_loss: 0.1684 - val_accuracy: 0.9674\n",
            "Epoch 39/70\n",
            "25/25 [==============================] - 0s 3ms/step - loss: 0.1418 - accuracy: 0.9915 - val_loss: 0.1633 - val_accuracy: 0.9724\n",
            "Epoch 40/70\n",
            "25/25 [==============================] - 0s 3ms/step - loss: 0.1476 - accuracy: 0.9879 - val_loss: 0.1586 - val_accuracy: 0.9724\n",
            "Epoch 41/70\n",
            "25/25 [==============================] - 0s 3ms/step - loss: 0.1452 - accuracy: 0.9907 - val_loss: 0.1536 - val_accuracy: 0.9724\n",
            "Epoch 42/70\n",
            "25/25 [==============================] - 0s 3ms/step - loss: 0.1383 - accuracy: 0.9901 - val_loss: 0.1496 - val_accuracy: 0.9724\n",
            "Epoch 43/70\n",
            "25/25 [==============================] - 0s 3ms/step - loss: 0.1362 - accuracy: 0.9864 - val_loss: 0.1456 - val_accuracy: 0.9724\n",
            "Epoch 44/70\n",
            "25/25 [==============================] - 0s 3ms/step - loss: 0.1311 - accuracy: 0.9891 - val_loss: 0.1418 - val_accuracy: 0.9749\n",
            "Epoch 45/70\n",
            "25/25 [==============================] - 0s 3ms/step - loss: 0.1410 - accuracy: 0.9841 - val_loss: 0.1380 - val_accuracy: 0.9749\n",
            "Epoch 46/70\n",
            "25/25 [==============================] - 0s 3ms/step - loss: 0.1247 - accuracy: 0.9925 - val_loss: 0.1349 - val_accuracy: 0.9749\n",
            "Epoch 47/70\n",
            "25/25 [==============================] - 0s 4ms/step - loss: 0.1140 - accuracy: 0.9949 - val_loss: 0.1316 - val_accuracy: 0.9774\n",
            "Epoch 48/70\n",
            "25/25 [==============================] - 0s 3ms/step - loss: 0.1241 - accuracy: 0.9920 - val_loss: 0.1282 - val_accuracy: 0.9774\n",
            "Epoch 49/70\n",
            "25/25 [==============================] - 0s 3ms/step - loss: 0.1176 - accuracy: 0.9861 - val_loss: 0.1253 - val_accuracy: 0.9825\n",
            "Epoch 50/70\n",
            "25/25 [==============================] - 0s 3ms/step - loss: 0.1085 - accuracy: 0.9896 - val_loss: 0.1223 - val_accuracy: 0.9825\n",
            "Epoch 51/70\n",
            "25/25 [==============================] - 0s 3ms/step - loss: 0.1059 - accuracy: 0.9906 - val_loss: 0.1195 - val_accuracy: 0.9825\n",
            "Epoch 52/70\n",
            "25/25 [==============================] - 0s 3ms/step - loss: 0.0994 - accuracy: 0.9876 - val_loss: 0.1170 - val_accuracy: 0.9825\n",
            "Epoch 53/70\n",
            "25/25 [==============================] - 0s 3ms/step - loss: 0.1030 - accuracy: 0.9899 - val_loss: 0.1143 - val_accuracy: 0.9850\n",
            "Epoch 54/70\n",
            "25/25 [==============================] - 0s 3ms/step - loss: 0.0959 - accuracy: 0.9959 - val_loss: 0.1119 - val_accuracy: 0.9850\n",
            "Epoch 55/70\n",
            "25/25 [==============================] - 0s 3ms/step - loss: 0.1001 - accuracy: 0.9931 - val_loss: 0.1094 - val_accuracy: 0.9875\n",
            "Epoch 56/70\n",
            "25/25 [==============================] - 0s 3ms/step - loss: 0.0988 - accuracy: 0.9967 - val_loss: 0.1070 - val_accuracy: 0.9875\n",
            "Epoch 57/70\n",
            "25/25 [==============================] - 0s 3ms/step - loss: 0.0963 - accuracy: 0.9942 - val_loss: 0.1047 - val_accuracy: 0.9875\n",
            "Epoch 58/70\n",
            "25/25 [==============================] - 0s 3ms/step - loss: 0.0819 - accuracy: 0.9938 - val_loss: 0.1025 - val_accuracy: 0.9875\n",
            "Epoch 59/70\n",
            "25/25 [==============================] - 0s 4ms/step - loss: 0.0939 - accuracy: 0.9963 - val_loss: 0.1001 - val_accuracy: 0.9875\n",
            "Epoch 60/70\n",
            "25/25 [==============================] - 0s 3ms/step - loss: 0.0907 - accuracy: 0.9920 - val_loss: 0.0981 - val_accuracy: 0.9925\n",
            "Epoch 61/70\n",
            "25/25 [==============================] - 0s 3ms/step - loss: 0.0719 - accuracy: 0.9959 - val_loss: 0.0959 - val_accuracy: 0.9925\n",
            "Epoch 62/70\n",
            "25/25 [==============================] - 0s 3ms/step - loss: 0.0830 - accuracy: 0.9956 - val_loss: 0.0937 - val_accuracy: 0.9925\n",
            "Epoch 63/70\n",
            "25/25 [==============================] - 0s 3ms/step - loss: 0.0862 - accuracy: 0.9947 - val_loss: 0.0917 - val_accuracy: 0.9925\n",
            "Epoch 64/70\n",
            "25/25 [==============================] - 0s 3ms/step - loss: 0.0710 - accuracy: 0.9979 - val_loss: 0.0896 - val_accuracy: 0.9925\n",
            "Epoch 65/70\n",
            "25/25 [==============================] - 0s 3ms/step - loss: 0.0682 - accuracy: 0.9980 - val_loss: 0.0878 - val_accuracy: 0.9925\n",
            "Epoch 66/70\n",
            "25/25 [==============================] - 0s 3ms/step - loss: 0.0713 - accuracy: 0.9970 - val_loss: 0.0859 - val_accuracy: 0.9925\n",
            "Epoch 67/70\n",
            "25/25 [==============================] - 0s 3ms/step - loss: 0.0678 - accuracy: 0.9975 - val_loss: 0.0840 - val_accuracy: 0.9925\n",
            "Epoch 68/70\n",
            "25/25 [==============================] - 0s 3ms/step - loss: 0.0728 - accuracy: 0.9944 - val_loss: 0.0822 - val_accuracy: 0.9925\n",
            "Epoch 69/70\n",
            "25/25 [==============================] - 0s 3ms/step - loss: 0.0712 - accuracy: 0.9944 - val_loss: 0.0804 - val_accuracy: 0.9925\n",
            "Epoch 70/70\n",
            "25/25 [==============================] - 0s 3ms/step - loss: 0.0685 - accuracy: 0.9960 - val_loss: 0.0785 - val_accuracy: 0.9925\n"
          ],
          "name": "stdout"
        }
      ]
    },
    {
      "cell_type": "code",
      "metadata": {
        "colab": {
          "base_uri": "https://localhost:8080/",
          "height": 299
        },
        "id": "goNMfXNyDJr1",
        "outputId": "ead1ae88-3ade-4ba7-9328-71c754b8189f"
      },
      "source": [
        "import matplotlib.pyplot as plt\n",
        "acc = history.history['accuracy']\n",
        "val_acc = history.history['val_accuracy']\n",
        "loss = history.history['loss']\n",
        "val_loss = history.history['val_loss']\n",
        "\n",
        "epochs = range(len(acc))\n",
        "\n",
        "plt.plot(epochs, loss, 'r', label='Training Loss')\n",
        "plt.plot(epochs, val_loss, 'b', label='Validation Loss')\n",
        "plt.title('Training and validation Loss')\n",
        "plt.legend(loc=0)\n",
        "plt.figure()\n",
        "\n",
        "plt.show()\n"
      ],
      "execution_count": null,
      "outputs": [
        {
          "output_type": "display_data",
          "data": {
            "image/png": "[encoded data removed]",
            "text/plain": [
              "<Figure size 432x288 with 1 Axes>"
            ]
          },
          "metadata": {
            "tags": [],
            "needs_background": "light"
          }
        },
        {
          "output_type": "display_data",
          "data": {
            "text/plain": [
              "<Figure size 432x288 with 0 Axes>"
            ]
          },
          "metadata": {
            "tags": []
          }
        }
      ]
    },
    {
      "cell_type": "code",
      "metadata": {
        "id": "cDrB3mJmEFd2"
      },
      "source": [
        "testing_data = test_df.loc[:, test_df.columns != 'class']"
      ],
      "execution_count": null,
      "outputs": []
    },
    {
      "cell_type": "code",
      "metadata": {
        "id": "4a-Xj_fqEuTa"
      },
      "source": [
        "pred = model.predict(testing_data)\n",
        "for x in range(len(pred)):\n",
        "  if pred[x]<0.5:\n",
        "    pred[x]=0\n",
        "  else:\n",
        "    pred[x]=1\n",
        "# print(pred)\n",
        "test_df['Predicted'] = pred"
      ],
      "execution_count": null,
      "outputs": []
    },
    {
      "cell_type": "code",
      "metadata": {
        "colab": {
          "base_uri": "https://localhost:8080/",
          "height": 424
        },
        "id": "n89qPKaJK3TC",
        "outputId": "e7d8d8bd-88b7-4b6e-b66c-0700502742ef"
      },
      "source": [
        "test_df"
      ],
      "execution_count": null,
      "outputs": [
        {
          "output_type": "execute_result",
          "data": {
            "text/html": [
              "<div>\n",
              "<style scoped>\n",
              "    .dataframe tbody tr th:only-of-type {\n",
              "        vertical-align: middle;\n",
              "    }\n",
              "\n",
              "    .dataframe tbody tr th {\n",
              "        vertical-align: top;\n",
              "    }\n",
              "\n",
              "    .dataframe thead th {\n",
              "        text-align: right;\n",
              "    }\n",
              "</style>\n",
              "<table border=\"1\" class=\"dataframe\">\n",
              "  <thead>\n",
              "    <tr style=\"text-align: right;\">\n",
              "      <th></th>\n",
              "      <th>variance</th>\n",
              "      <th>skewness</th>\n",
              "      <th>curtosis</th>\n",
              "      <th>entropy</th>\n",
              "      <th>class</th>\n",
              "      <th>Predicted</th>\n",
              "    </tr>\n",
              "  </thead>\n",
              "  <tbody>\n",
              "    <tr>\n",
              "      <th>0</th>\n",
              "      <td>-0.11783</td>\n",
              "      <td>-1.578900</td>\n",
              "      <td>8.03000</td>\n",
              "      <td>-0.028031</td>\n",
              "      <td>0</td>\n",
              "      <td>0.0</td>\n",
              "    </tr>\n",
              "    <tr>\n",
              "      <th>1</th>\n",
              "      <td>-1.30660</td>\n",
              "      <td>0.252440</td>\n",
              "      <td>0.76230</td>\n",
              "      <td>1.775800</td>\n",
              "      <td>1</td>\n",
              "      <td>1.0</td>\n",
              "    </tr>\n",
              "    <tr>\n",
              "      <th>2</th>\n",
              "      <td>1.01820</td>\n",
              "      <td>9.109000</td>\n",
              "      <td>-0.62064</td>\n",
              "      <td>-1.712900</td>\n",
              "      <td>0</td>\n",
              "      <td>0.0</td>\n",
              "    </tr>\n",
              "    <tr>\n",
              "      <th>3</th>\n",
              "      <td>1.13150</td>\n",
              "      <td>7.921200</td>\n",
              "      <td>1.09300</td>\n",
              "      <td>-2.844400</td>\n",
              "      <td>0</td>\n",
              "      <td>0.0</td>\n",
              "    </tr>\n",
              "    <tr>\n",
              "      <th>4</th>\n",
              "      <td>4.09720</td>\n",
              "      <td>0.469720</td>\n",
              "      <td>1.66710</td>\n",
              "      <td>0.915930</td>\n",
              "      <td>0</td>\n",
              "      <td>0.0</td>\n",
              "    </tr>\n",
              "    <tr>\n",
              "      <th>...</th>\n",
              "      <td>...</td>\n",
              "      <td>...</td>\n",
              "      <td>...</td>\n",
              "      <td>...</td>\n",
              "      <td>...</td>\n",
              "      <td>...</td>\n",
              "    </tr>\n",
              "    <tr>\n",
              "      <th>167</th>\n",
              "      <td>-1.83910</td>\n",
              "      <td>-9.088300</td>\n",
              "      <td>9.24160</td>\n",
              "      <td>-0.104320</td>\n",
              "      <td>1</td>\n",
              "      <td>1.0</td>\n",
              "    </tr>\n",
              "    <tr>\n",
              "      <th>168</th>\n",
              "      <td>-1.72790</td>\n",
              "      <td>-6.841000</td>\n",
              "      <td>8.94940</td>\n",
              "      <td>0.680580</td>\n",
              "      <td>1</td>\n",
              "      <td>1.0</td>\n",
              "    </tr>\n",
              "    <tr>\n",
              "      <th>169</th>\n",
              "      <td>-2.26250</td>\n",
              "      <td>-0.099335</td>\n",
              "      <td>2.81270</td>\n",
              "      <td>0.486620</td>\n",
              "      <td>1</td>\n",
              "      <td>1.0</td>\n",
              "    </tr>\n",
              "    <tr>\n",
              "      <th>170</th>\n",
              "      <td>3.81170</td>\n",
              "      <td>10.145700</td>\n",
              "      <td>-4.04630</td>\n",
              "      <td>-4.562900</td>\n",
              "      <td>0</td>\n",
              "      <td>0.0</td>\n",
              "    </tr>\n",
              "    <tr>\n",
              "      <th>171</th>\n",
              "      <td>2.26340</td>\n",
              "      <td>-4.486200</td>\n",
              "      <td>3.65580</td>\n",
              "      <td>-0.612510</td>\n",
              "      <td>0</td>\n",
              "      <td>0.0</td>\n",
              "    </tr>\n",
              "  </tbody>\n",
              "</table>\n",
              "<p>172 rows × 6 columns</p>\n",
              "</div>"
            ],
            "text/plain": [
              "     variance   skewness  curtosis   entropy  class  Predicted\n",
              "0    -0.11783  -1.578900   8.03000 -0.028031      0        0.0\n",
              "1    -1.30660   0.252440   0.76230  1.775800      1        1.0\n",
              "2     1.01820   9.109000  -0.62064 -1.712900      0        0.0\n",
              "3     1.13150   7.921200   1.09300 -2.844400      0        0.0\n",
              "4     4.09720   0.469720   1.66710  0.915930      0        0.0\n",
              "..        ...        ...       ...       ...    ...        ...\n",
              "167  -1.83910  -9.088300   9.24160 -0.104320      1        1.0\n",
              "168  -1.72790  -6.841000   8.94940  0.680580      1        1.0\n",
              "169  -2.26250  -0.099335   2.81270  0.486620      1        1.0\n",
              "170   3.81170  10.145700  -4.04630 -4.562900      0        0.0\n",
              "171   2.26340  -4.486200   3.65580 -0.612510      0        0.0\n",
              "\n",
              "[172 rows x 6 columns]"
            ]
          },
          "metadata": {
            "tags": []
          },
          "execution_count": 61
        }
      ]
    },
    {
      "cell_type": "code",
      "metadata": {
        "colab": {
          "base_uri": "https://localhost:8080/",
          "height": 206
        },
        "id": "I6FFZoIjEzMK",
        "outputId": "065257df-7977-4ce0-bafe-cec1b08ebf46"
      },
      "source": [
        "test_df.head(5)"
      ],
      "execution_count": null,
      "outputs": [
        {
          "output_type": "execute_result",
          "data": {
            "text/html": [
              "<div>\n",
              "<style scoped>\n",
              "    .dataframe tbody tr th:only-of-type {\n",
              "        vertical-align: middle;\n",
              "    }\n",
              "\n",
              "    .dataframe tbody tr th {\n",
              "        vertical-align: top;\n",
              "    }\n",
              "\n",
              "    .dataframe thead th {\n",
              "        text-align: right;\n",
              "    }\n",
              "</style>\n",
              "<table border=\"1\" class=\"dataframe\">\n",
              "  <thead>\n",
              "    <tr style=\"text-align: right;\">\n",
              "      <th></th>\n",
              "      <th>variance</th>\n",
              "      <th>skewness</th>\n",
              "      <th>curtosis</th>\n",
              "      <th>entropy</th>\n",
              "      <th>class</th>\n",
              "      <th>Predicted</th>\n",
              "    </tr>\n",
              "  </thead>\n",
              "  <tbody>\n",
              "    <tr>\n",
              "      <th>0</th>\n",
              "      <td>1.64720</td>\n",
              "      <td>0.48213</td>\n",
              "      <td>4.7449</td>\n",
              "      <td>1.22500</td>\n",
              "      <td>0</td>\n",
              "      <td>0.000482</td>\n",
              "    </tr>\n",
              "    <tr>\n",
              "      <th>1</th>\n",
              "      <td>-2.66490</td>\n",
              "      <td>-12.81300</td>\n",
              "      <td>12.6689</td>\n",
              "      <td>-1.90820</td>\n",
              "      <td>1</td>\n",
              "      <td>0.999058</td>\n",
              "    </tr>\n",
              "    <tr>\n",
              "      <th>2</th>\n",
              "      <td>-1.44540</td>\n",
              "      <td>-8.43850</td>\n",
              "      <td>8.8483</td>\n",
              "      <td>0.96894</td>\n",
              "      <td>1</td>\n",
              "      <td>0.987296</td>\n",
              "    </tr>\n",
              "    <tr>\n",
              "      <th>3</th>\n",
              "      <td>-0.10648</td>\n",
              "      <td>-0.76771</td>\n",
              "      <td>7.7575</td>\n",
              "      <td>0.64179</td>\n",
              "      <td>0</td>\n",
              "      <td>0.001874</td>\n",
              "    </tr>\n",
              "    <tr>\n",
              "      <th>4</th>\n",
              "      <td>-1.13130</td>\n",
              "      <td>1.90370</td>\n",
              "      <td>7.5339</td>\n",
              "      <td>1.02200</td>\n",
              "      <td>0</td>\n",
              "      <td>0.002532</td>\n",
              "    </tr>\n",
              "  </tbody>\n",
              "</table>\n",
              "</div>"
            ],
            "text/plain": [
              "   variance  skewness  curtosis  entropy  class  Predicted\n",
              "0   1.64720   0.48213    4.7449  1.22500      0   0.000482\n",
              "1  -2.66490 -12.81300   12.6689 -1.90820      1   0.999058\n",
              "2  -1.44540  -8.43850    8.8483  0.96894      1   0.987296\n",
              "3  -0.10648  -0.76771    7.7575  0.64179      0   0.001874\n",
              "4  -1.13130   1.90370    7.5339  1.02200      0   0.002532"
            ]
          },
          "metadata": {
            "tags": []
          },
          "execution_count": 21
        }
      ]
    },
    {
      "cell_type": "code",
      "metadata": {
        "id": "klAyoT7QPgws"
      },
      "source": [
        "y_test = test_df['class']\n",
        "y_pred = test_df['Predicted'].astype(int)"
      ],
      "execution_count": null,
      "outputs": []
    },
    {
      "cell_type": "code",
      "metadata": {
        "colab": {
          "base_uri": "https://localhost:8080/"
        },
        "id": "YG0ElMhaFHXS",
        "outputId": "1752f8a1-a932-4dd2-a176-b1ae32925bab"
      },
      "source": [
        "import itertools\n",
        "from sklearn.metrics import classification_report,confusion_matrix,accuracy_score\n",
        "print(classification_report(y_test, y_pred))\n",
        "cnf_matrix = confusion_matrix(y_test,y_pred)"
      ],
      "execution_count": null,
      "outputs": [
        {
          "output_type": "stream",
          "text": [
            "              precision    recall  f1-score   support\n",
            "\n",
            "           0       1.00      0.99      0.99        96\n",
            "           1       0.99      1.00      0.99        76\n",
            "\n",
            "    accuracy                           0.99       172\n",
            "   macro avg       0.99      0.99      0.99       172\n",
            "weighted avg       0.99      0.99      0.99       172\n",
            "\n"
          ],
          "name": "stdout"
        }
      ]
    },
    {
      "cell_type": "code",
      "metadata": {
        "id": "mCkenjugQGMy"
      },
      "source": [
        "classes = [0,1]"
      ],
      "execution_count": null,
      "outputs": []
    },
    {
      "cell_type": "code",
      "metadata": {
        "colab": {
          "base_uri": "https://localhost:8080/",
          "height": 747
        },
        "id": "J6Q0pO_kQDQY",
        "outputId": "a78e2d64-de1e-43f5-8500-1831c6106898"
      },
      "source": [
        "def plot_confusion_matrix(cm, classes, title='Confusion matrix', cmap=plt.cm.Blues):\n",
        "    cm = cm.astype('float') / cm.sum(axis=1)[:, np.newaxis]\n",
        "    plt.figure(figsize=(10,10))\n",
        "    plt.imshow(cm, interpolation='nearest', cmap=cmap)\n",
        "    plt.title(title)\n",
        "    plt.colorbar()\n",
        "    tick_marks = np.arange(len(classes))\n",
        "    plt.xticks(tick_marks, classes, rotation=45)\n",
        "    plt.yticks(tick_marks, classes)\n",
        "\n",
        "    fmt = '.2f'\n",
        "    thresh = cm.max() / 2.\n",
        "    for i, j in itertools.product(range(cm.shape[0]), range(cm.shape[1])):\n",
        "        plt.text(j, i, format(cm[i, j], fmt),\n",
        "                 horizontalalignment=\"center\",\n",
        "                 color=\"white\" if cm[i, j] > thresh else \"black\")\n",
        "\n",
        "    plt.ylabel('True label')\n",
        "    plt.xlabel('Predicted label')\n",
        "    plt.tight_layout()\n",
        "\n",
        "np.set_printoptions(precision=2)\n",
        "\n",
        "\n",
        "# plot normalized confusion matrix\n",
        "plt.figure()\n",
        "plot_confusion_matrix(cnf_matrix, classes=classes, title='Normalized confusion matrix')\n",
        "plt.show()"
      ],
      "execution_count": null,
      "outputs": [
        {
          "output_type": "display_data",
          "data": {
            "text/plain": [
              "<Figure size 432x288 with 0 Axes>"
            ]
          },
          "metadata": {
            "tags": []
          }
        },
        {
          "output_type": "display_data",
          "data": {
            "image/png": "[encoded data removed]",
            "text/plain": [
              "<Figure size 720x720 with 2 Axes>"
            ]
          },
          "metadata": {
            "tags": [],
            "needs_background": "light"
          }
        }
      ]
    }
  ]
}